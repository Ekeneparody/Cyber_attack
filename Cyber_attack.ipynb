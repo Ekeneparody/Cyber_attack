{
 "cells": [
  {
   "cell_type": "code",
   "execution_count": null,
   "id": "452deec2-7864-418f-80eb-a50b8b82904e",
   "metadata": {},
   "outputs": [],
   "source": [
    "installing necessary libarires\n",
    "import numpy as np\n",
    "import pandas as pd\n",
    "import matplotlib.pyplot as plt\n",
    "import seaborn as sb\n"
   ]
  },
  {
   "cell_type": "code",
   "execution_count": null,
   "id": "1e991a78-cd18-4c2d-aea4-f5979dc37b4c",
   "metadata": {},
   "outputs": [],
   "source": [
    "base_color = sb.color_palette\n",
    "year_order = df[‘year’].value_counts().index\n",
    "location_order = df[‘Location’].value_counts().index\n",
    "motive_order = df[‘Motive’].value_counts().index\n",
    "industry_order = df[‘Industry’].value_counts().index"
   ]
  },
  {
   "cell_type": "code",
   "execution_count": null,
   "id": "63ff9e1a-8b4b-4060-8566-818bb2dd21fc",
   "metadata": {},
   "outputs": [],
   "source": [
    "#attack frequency by year\n",
    "plt.figure(figsize=(20,8))\n",
    "plt.title(“Attack Frequency by year”)\n",
    "sb.countplot(data=df, y=‘year’, color=base_color, order=year_order)\n",
    "plt.xticks(rotation=45); "
   ]
  },
  {
   "cell_type": "code",
   "execution_count": null,
   "id": "681119c5-cf7e-4b75-838d-58d6eb7d78ff",
   "metadata": {},
   "outputs": [],
   "source": [
    "#attack by industry\n",
    "plt.figure(figsize=(10,6))\n",
    "plt.title(“Attack Frequency by industry”)\n",
    "sb.countplot(data=df,y=‘industry’, color=base_color, order=year_order)\n",
    "plt.xticks(rotation=15)"
   ]
  },
  {
   "cell_type": "code",
   "execution_count": null,
   "id": "08f0c3c6-108e-4ead-8878-4d1d1ea5d63c",
   "metadata": {},
   "outputs": [],
   "source": [
    "plt.figure(figsize=(10,5))\n",
    "plt.title(“Attack Frequency by Motive”)\n",
    "sb.countplot(data=df, y=‘Motive’, color=base_color, order=motive_order)\n",
    "plt.xticks(rotation=15);"
   ]
  }
 ],
 "metadata": {
  "kernelspec": {
   "display_name": "Python 3 (ipykernel)",
   "language": "python",
   "name": "python3"
  },
  "language_info": {
   "codemirror_mode": {
    "name": "ipython",
    "version": 3
   },
   "file_extension": ".py",
   "mimetype": "text/x-python",
   "name": "python",
   "nbconvert_exporter": "python",
   "pygments_lexer": "ipython3",
   "version": "3.12.4"
  }
 },
 "nbformat": 4,
 "nbformat_minor": 5
}
